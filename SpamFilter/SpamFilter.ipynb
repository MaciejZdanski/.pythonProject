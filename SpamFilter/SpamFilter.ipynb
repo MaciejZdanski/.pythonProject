{
  "cells": [
    {
      "cell_type": "markdown",
      "metadata": {
        "id": "nE92LjqK5Zyb"
      },
      "source": [
        "# Treść zadania:\n",
        "Tematem projektu będzie napisanie modelu filtru spamowego wykorzystując do tego celu dostępne przykładowe dane: https://www.kaggle.com/datasets/jerryanggara6/spam-filter-dataset.\n",
        "\n",
        "Podstawowym założeniem jest korzystanie z modułów sparka do wczytywania, modyfikacji i manipulacji danymi. Filtr spamu trzeba zaimplementować za pomocą przetwarzania języka naturalnego zwanym analiza sentymentów. \n",
        "\n",
        "Proces tworzenia:\n",
        "- oczysznienie danych i podzielenie na dwie klasy (spam i nie spam), tokenizacja danych,\n",
        "- Stworzenie tzw. model worka słów czyli modyfikacja tekstu na numeryczny wektor cech,\n",
        "- Zmniejszenie wagi mniej istotnym słowom,\n",
        "- Przygotowanie modeli (przykładowo regresja logistyczna, naiwny klasyfikator Bayesa), \n",
        "- Podział na zbiór treningowy i testowy (kroswalidacja)\n",
        "- Ocena jakości modelu \n",
        "\n",
        "Projekt zamiera możliwość przetestowania modelu (wpisanie własnego tekstu i sprawdzenie czy jest to spam czy nie)."
      ]
    },
    {
      "cell_type": "code",
      "execution_count": null,
      "metadata": {
        "colab": {
          "base_uri": "https://localhost:8080/"
        },
        "id": "Li321sPZtOTg",
        "outputId": "04654149-3aba-4081-af94-1579d13f1868"
      },
      "outputs": [
        {
          "name": "stdout",
          "output_type": "stream",
          "text": [
            "Collecting pyspark\n",
            "  Downloading pyspark-3.5.1.tar.gz (317.0 MB)\n",
            "\u001b[2K     \u001b[90m━━━━━━━━━━━━━━━━━━━━━━━━━━━━━━━━━━━━━━━━\u001b[0m \u001b[32m317.0/317.0 MB\u001b[0m \u001b[31m2.6 MB/s\u001b[0m eta \u001b[36m0:00:00\u001b[0m\n",
            "\u001b[?25h  Preparing metadata (setup.py) ... \u001b[?25l\u001b[?25hdone\n",
            "Requirement already satisfied: py4j in /usr/local/lib/python3.10/dist-packages (0.10.9.7)\n",
            "Building wheels for collected packages: pyspark\n",
            "  Building wheel for pyspark (setup.py) ... \u001b[?25l\u001b[?25hdone\n",
            "  Created wheel for pyspark: filename=pyspark-3.5.1-py2.py3-none-any.whl size=317488491 sha256=72973a54a0774f9f8f1ad7a845899d75b2c00fec0d19498d5ecb3adbde320b36\n",
            "  Stored in directory: /root/.cache/pip/wheels/80/1d/60/2c256ed38dddce2fdd93be545214a63e02fbd8d74fb0b7f3a6\n",
            "Successfully built pyspark\n",
            "Installing collected packages: pyspark\n",
            "Successfully installed pyspark-3.5.1\n"
          ]
        }
      ],
      "source": [
        "!pip install pyspark py4j"
      ]
    },
    {
      "cell_type": "code",
      "execution_count": null,
      "metadata": {
        "id": "WI4TJ57BvlU8"
      },
      "outputs": [],
      "source": [
        "from pyspark.sql import SparkSession\n",
        "from pyspark.sql.functions import col\n",
        "from pyspark.ml.feature import Tokenizer, StopWordsRemover\n",
        "\n",
        "import seaborn as sns\n",
        "import matplotlib.pyplot as plt\n",
        "import time\n"
      ]
    },
    {
      "cell_type": "markdown",
      "metadata": {
        "id": "0qQ1K34B-Hfd"
      },
      "source": [
        "# Wczytanie danych\n",
        "\n",
        "## Opis danych\n",
        "Zbiór danych uzyty do badania filtru antyspamowego to kompleksowa kolekcja informacji, które służą do szkolenia algorytmów stosowanych w filtrach antyspamowych. W jego skład wchodzi zwykle szeroki zakres wiadomości e-mail, z których niektóre zostały oznaczone jako spam, a inne są legalnymi.\n",
        "\n",
        "\n",
        "Podział danych na kategorie:\n",
        "* 'ham': 87%\n",
        "* 'spam1': 3%\n",
        "\n",
        "Ilość unikalnych wartości: 5157\n"
      ]
    },
    {
      "cell_type": "markdown",
      "metadata": {
        "id": "ixx3mHzwCFew"
      },
      "source": [
        "# Przygotowanie danych"
      ]
    },
    {
      "cell_type": "markdown",
      "metadata": {
        "id": "MBTsjzrkZmLo"
      },
      "source": [
        "## Tworzenie sesji"
      ]
    },
    {
      "cell_type": "code",
      "execution_count": null,
      "metadata": {
        "id": "cSRljKElZqqS"
      },
      "outputs": [],
      "source": [
        "spark = SparkSession.builder.appName('antyspam').getOrCreate()"
      ]
    },
    {
      "cell_type": "markdown",
      "metadata": {
        "id": "BnFS8CczZrvT"
      },
      "source": [
        "## Wczytanie danych z pliku CSV"
      ]
    },
    {
      "cell_type": "code",
      "execution_count": null,
      "metadata": {
        "colab": {
          "base_uri": "https://localhost:8080/"
        },
        "id": "r8awfunz_IKt",
        "outputId": "eb8fb692-2bd9-4373-d365-a1c31ca38823"
      },
      "outputs": [
        {
          "name": "stdout",
          "output_type": "stream",
          "text": [
            "+--------+--------------------+\n",
            "|Category|             Message|\n",
            "+--------+--------------------+\n",
            "|     ham|Go until jurong p...|\n",
            "|     ham|Ok lar... Joking ...|\n",
            "|    spam|Free entry in 2 a...|\n",
            "|     ham|U dun say so earl...|\n",
            "|     ham|Nah I don't think...|\n",
            "|    spam|FreeMsg Hey there...|\n",
            "|     ham|Even my brother i...|\n",
            "|     ham|As per your reque...|\n",
            "|    spam|WINNER!! As a val...|\n",
            "|    spam|Had your mobile 1...|\n",
            "+--------+--------------------+\n",
            "only showing top 10 rows\n",
            "\n"
          ]
        }
      ],
      "source": [
        "data_path = \"/content/drive/MyDrive/Colab Notebooks/spam.csv\"\n",
        "df = spark.read.option(\"header\", \"true\").csv(data_path)\n",
        "df.show(10)"
      ]
    },
    {
      "cell_type": "markdown",
      "metadata": {
        "id": "lIth_Zg2aGEM"
      },
      "source": [
        "## Oczyszczanie danych"
      ]
    },
    {
      "cell_type": "code",
      "execution_count": null,
      "metadata": {
        "id": "ifTYqya-aFiN"
      },
      "outputs": [],
      "source": [
        "cleaned_df = df.select(col(\"Category\").alias(\"label\"), col(\"Message\").alias(\"text\"))"
      ]
    },
    {
      "cell_type": "markdown",
      "metadata": {
        "id": "BUNZxXZ2aX2I"
      },
      "source": [
        "## Podział danych na dwie kategorię: spam i false-positive('ham')"
      ]
    },
    {
      "cell_type": "code",
      "execution_count": null,
      "metadata": {
        "id": "BmTzgTPkafz2"
      },
      "outputs": [],
      "source": [
        "cleaned_df = cleaned_df.filter((col(\"label\") == \"spam\") | (col(\"label\") == \"ham\"))"
      ]
    },
    {
      "cell_type": "markdown",
      "metadata": {
        "id": "J8KTrUfualiD"
      },
      "source": [
        "## Tokenizacja tekstu"
      ]
    },
    {
      "cell_type": "code",
      "execution_count": null,
      "metadata": {
        "id": "dXqnQ705Cl9E"
      },
      "outputs": [],
      "source": [
        "tokenizer = Tokenizer(inputCol=\"text\", outputCol=\"words\")\n",
        "words_df = tokenizer.transform(cleaned_df)"
      ]
    },
    {
      "cell_type": "markdown",
      "metadata": {
        "id": "7ZX-FPgqcFjZ"
      },
      "source": [
        "## Usunięcie stop words"
      ]
    },
    {
      "cell_type": "code",
      "execution_count": null,
      "metadata": {
        "id": "zR-8181AcJxc"
      },
      "outputs": [],
      "source": [
        "remover = StopWordsRemover(inputCol=\"words\", outputCol=\"filtered_words\")\n",
        "filtered_words_df = remover.transform(words_df)"
      ]
    },
    {
      "cell_type": "markdown",
      "metadata": {
        "id": "1_V-dTsQcMfC"
      },
      "source": [
        "## Wyświetlenie przetworzonych danych"
      ]
    },
    {
      "cell_type": "code",
      "execution_count": null,
      "metadata": {
        "colab": {
          "base_uri": "https://localhost:8080/"
        },
        "id": "5M57uVsRcRMd",
        "outputId": "bba6e07b-cbaa-4d73-f97d-e536cb04dff9"
      },
      "outputs": [
        {
          "name": "stdout",
          "output_type": "stream",
          "text": [
            "+-----+--------------------+--------------------+--------------------+\n",
            "|label|                text|               words|      filtered_words|\n",
            "+-----+--------------------+--------------------+--------------------+\n",
            "|  ham|Go until jurong p...|[go, until, juron...|[go, jurong, poin...|\n",
            "|  ham|Ok lar... Joking ...|[ok, lar..., joki...|[ok, lar..., joki...|\n",
            "| spam|Free entry in 2 a...|[free, entry, in,...|[free, entry, 2, ...|\n",
            "|  ham|U dun say so earl...|[u, dun, say, so,...|[u, dun, say, ear...|\n",
            "|  ham|Nah I don't think...|[nah, i, don't, t...|[nah, think, goes...|\n",
            "| spam|FreeMsg Hey there...|[freemsg, hey, th...|[freemsg, hey, da...|\n",
            "|  ham|Even my brother i...|[even, my, brothe...|[even, brother, l...|\n",
            "|  ham|As per your reque...|[as, per, your, r...|[per, request, 'm...|\n",
            "| spam|WINNER!! As a val...|[winner!!, as, a,...|[winner!!, valued...|\n",
            "| spam|Had your mobile 1...|[had, your, mobil...|[mobile, 11, mont...|\n",
            "|  ham|I'm gonna be home...|[i'm, gonna, be, ...|[gonna, home, soo...|\n",
            "| spam|SIX chances to wi...|[six, chances, to...|[six, chances, wi...|\n",
            "| spam|URGENT! You have ...|[urgent!, you, ha...|[urgent!, won, 1,...|\n",
            "|  ham|I've been searchi...|[i've, been, sear...|[searching, right...|\n",
            "|  ham|I HAVE A DATE ON ...|[i, have, a, date...|[date, sunday, wi...|\n",
            "| spam|XXXMobileMovieClu...|[xxxmobilemoviecl...|[xxxmobilemoviecl...|\n",
            "|  ham|Oh k...i'm watchi...|[oh, k...i'm, wat...|[oh, k...i'm, wat...|\n",
            "|  ham|Eh u remember how...|[eh, u, remember,...|[eh, u, remember,...|\n",
            "|  ham|Fine if thats th...|[fine, if, thats...|[fine, thats, wa...|\n",
            "| spam|England v Macedon...|[england, v, mace...|[england, v, mace...|\n",
            "+-----+--------------------+--------------------+--------------------+\n",
            "only showing top 20 rows\n",
            "\n"
          ]
        }
      ],
      "source": [
        "filtered_words_df.show()"
      ]
    },
    {
      "cell_type": "markdown",
      "metadata": {
        "id": "gUxiz1XxJJjv"
      },
      "source": [
        "# Budowa modelu worka"
      ]
    },
    {
      "cell_type": "code",
      "execution_count": null,
      "metadata": {
        "id": "sYmxpesXckjo"
      },
      "outputs": [],
      "source": [
        "from pyspark.ml.feature import CountVectorizer\n",
        "from pyspark.ml.classification import LogisticRegression, NaiveBayes\n",
        "from pyspark.ml.evaluation import MulticlassClassificationEvaluator\n",
        "from pyspark.ml.feature import StringIndexer"
      ]
    },
    {
      "cell_type": "markdown",
      "metadata": {
        "id": "i-LLe6D-cnsV"
      },
      "source": [
        "## Tworzenie modelu:"
      ]
    },
    {
      "cell_type": "code",
      "execution_count": null,
      "metadata": {
        "id": "vOEXHcXhclk3"
      },
      "outputs": [],
      "source": [
        "cv = CountVectorizer(inputCol=\"filtered_words\", outputCol=\"features\")\n",
        "cv_model = cv.fit(filtered_words_df)\n",
        "vectorized_df = cv_model.transform(filtered_words_df)"
      ]
    },
    {
      "cell_type": "markdown",
      "metadata": {
        "id": "LNfZyk8FczDp"
      },
      "source": [
        "## Podział danych na zbiór treningowy i testowy"
      ]
    },
    {
      "cell_type": "code",
      "execution_count": null,
      "metadata": {
        "id": "sLC4sev_cyqa"
      },
      "outputs": [],
      "source": [
        "(train_data, test_data) = vectorized_df.randomSplit([0.8, 0.2], seed=42)"
      ]
    },
    {
      "cell_type": "markdown",
      "metadata": {
        "id": "Z2uGFF_xc7Ys"
      },
      "source": [
        "# Inicjalizacja modeli klasyfikacji"
      ]
    },
    {
      "cell_type": "code",
      "execution_count": null,
      "metadata": {
        "id": "SGHD5T2sc8ub"
      },
      "outputs": [],
      "source": [
        "lr = LogisticRegression(labelCol=\"label\", featuresCol=\"features\")\n",
        "nb = NaiveBayes(labelCol=\"label\", featuresCol=\"features\")"
      ]
    },
    {
      "cell_type": "markdown",
      "metadata": {
        "id": "_GP3_tl3dAwg"
      },
      "source": [
        "## Trenowanie modeli"
      ]
    },
    {
      "cell_type": "code",
      "execution_count": null,
      "metadata": {
        "id": "w6oyGu-jda_d"
      },
      "outputs": [],
      "source": [
        "indexer = StringIndexer(inputCol=\"label\", outputCol=\"label_index\")\n",
        "indexed_train_data = indexer.fit(train_data).transform(train_data)"
      ]
    },
    {
      "cell_type": "markdown",
      "metadata": {
        "id": "DiJi_yBwgees"
      },
      "source": [
        "## Ocena wydajności modelu regresji logistycznej\n"
      ]
    },
    {
      "cell_type": "code",
      "execution_count": null,
      "metadata": {
        "colab": {
          "base_uri": "https://localhost:8080/"
        },
        "id": "cM8Bly7qgmEu",
        "outputId": "1587d8b8-14f0-4093-ee84-6e80c60816b1"
      },
      "outputs": [
        {
          "name": "stdout",
          "output_type": "stream",
          "text": [
            "Logistic Regression Accuracy: 1.00\n"
          ]
        }
      ],
      "source": [
        "lr_predictions = lr_model.transform(indexed_train_data)\n",
        "lr_predictionAndLabels = lr_predictions.select(\"prediction\", \"label_index\").rdd\n",
        "lr_metrics = MulticlassMetrics(lr_predictionAndLabels)\n",
        "print(\"Logistic Regression Accuracy: {:.2f}\".format(lr_metrics.accuracy))"
      ]
    },
    {
      "cell_type": "markdown",
      "metadata": {
        "id": "c4CYT9lQgpUb"
      },
      "source": [
        "## Trenowanie modelu naiwnego klasyfikatora Bayesa"
      ]
    },
    {
      "cell_type": "code",
      "execution_count": null,
      "metadata": {
        "id": "KUpqFpWTi48m"
      },
      "outputs": [],
      "source": [
        "nb_model = nb.fit(indexed_train_data, {nb.labelCol: \"label_index\"})"
      ]
    },
    {
      "cell_type": "markdown",
      "metadata": {
        "id": "fYGEqMRFjFLm"
      },
      "source": [
        "## Ocena wydajności modelu naiwnego klasyfikatora Bayesa"
      ]
    },
    {
      "cell_type": "code",
      "execution_count": null,
      "metadata": {
        "colab": {
          "base_uri": "https://localhost:8080/"
        },
        "id": "y-nXRujAgrKP",
        "outputId": "bda75d37-f659-420b-c0e4-faa557599f9e"
      },
      "outputs": [
        {
          "name": "stdout",
          "output_type": "stream",
          "text": [
            "Naive Bayes Accuracy: 1.00\n"
          ]
        }
      ],
      "source": [
        "nb_predictions = nb_model.transform(indexed_train_data)\n",
        "nb_predictionAndLabels = nb_predictions.select(\"prediction\", \"label_index\").rdd\n",
        "nb_metrics = MulticlassMetrics(nb_predictionAndLabels)\n",
        "print(\"Naive Bayes Accuracy: {:.2f}\".format(nb_metrics.accuracy))"
      ]
    },
    {
      "cell_type": "code",
      "execution_count": null,
      "metadata": {
        "id": "yZeTV6krmFFp"
      },
      "outputs": [],
      "source": [
        "plt.imshow(lr_confusion_matrix, interpolation='nearest', cmap=plt.cm.Blues)\n",
        "plt.title('Logistic Regression Confusion Matrix')\n",
        "plt.colorbar()\n",
        "tick_marks = np.arange(2)\n",
        "plt.xticks(tick_marks, ['ham', 'spam'], rotation=45)\n",
        "plt.yticks(tick_marks, ['ham', 'spam'])\n",
        "plt.xlabel('Predicted Label')\n",
        "plt.ylabel('True Label')\n",
        "plt.show()"
      ]
    },
    {
      "cell_type": "markdown",
      "metadata": {
        "id": "HC7QyowrroPI"
      },
      "source": [
        "# Macierze pomyłek dla wybranych modeli regresji"
      ]
    },
    {
      "cell_type": "markdown",
      "metadata": {
        "id": "FaVW8eRrl4RY"
      },
      "source": [
        "## Tworzenie macierzy pomyłek dla modelu regresji logistycznej"
      ]
    },
    {
      "cell_type": "code",
      "execution_count": null,
      "metadata": {
        "id": "TzIefinQl43y"
      },
      "outputs": [],
      "source": [
        "lr_predictionAndLabels = lr_predictions.select(\"prediction\", \"label_index\").rdd\n",
        "lr_metrics = MulticlassMetrics(lr_predictionAndLabels)\n",
        "\n",
        "lr_confusion_matrix = lr_metrics.confusionMatrix().toArray()"
      ]
    },
    {
      "cell_type": "markdown",
      "metadata": {
        "id": "vOHFfTG9s2K2"
      },
      "source": [
        "## Wyświetlenie macierzy pomyłek dla modelu regresji logistycznej"
      ]
    },
    {
      "cell_type": "code",
      "execution_count": null,
      "metadata": {
        "colab": {
          "base_uri": "https://localhost:8080/",
          "height": 495
        },
        "id": "7hbxQIrzsx_5",
        "outputId": "9408427c-8ae1-42ce-f327-595b4bec6c16"
      },
      "outputs": [
        {
          "data": {
            "image/png": "[encoded data removed]",
            "text/plain": [
              "<Figure size 640x480 with 2 Axes>"
            ]
          },
          "metadata": {},
          "output_type": "display_data"
        }
      ],
      "source": [
        "plt.imshow(lr_confusion_matrix, interpolation='nearest', cmap=plt.cm.Blues)\n",
        "plt.title('Logistic Regression Confusion Matrix')\n",
        "plt.colorbar()\n",
        "tick_marks = np.arange(2)\n",
        "plt.xticks(tick_marks, ['ham', 'spam'], rotation=45)\n",
        "plt.yticks(tick_marks, ['ham', 'spam'])\n",
        "plt.xlabel('Predicted Label')\n",
        "plt.ylabel('True Label')\n",
        "plt.show()"
      ]
    },
    {
      "cell_type": "markdown",
      "metadata": {
        "id": "ghucV1vRkM70"
      },
      "source": [
        "## Tworzenie macierzy pomyłek dla modelu naiwnego klasyfikatora Bayesa"
      ]
    },
    {
      "cell_type": "code",
      "execution_count": null,
      "metadata": {
        "id": "vR1R5FvzkOqq"
      },
      "outputs": [],
      "source": [
        "nb_confusion_matrix = nb_metrics.confusionMatrix().toArray()"
      ]
    },
    {
      "cell_type": "markdown",
      "metadata": {
        "id": "K0TJMYBjkTVP"
      },
      "source": [
        "## Wyświetlenie macierzy pomyłek modelu naiwnego klasyfikatora Bayesa"
      ]
    },
    {
      "cell_type": "code",
      "execution_count": null,
      "metadata": {
        "id": "mww66qS-kpMa"
      },
      "outputs": [],
      "source": [
        "import numpy as np"
      ]
    },
    {
      "cell_type": "code",
      "execution_count": null,
      "metadata": {
        "colab": {
          "base_uri": "https://localhost:8080/",
          "height": 495
        },
        "id": "nRrkg9K-kVg6",
        "outputId": "b2362485-c367-4836-8cc3-e4869775aa9c"
      },
      "outputs": [
        {
          "data": {
            "image/png": "[encoded data removed]",
            "text/plain": [
              "<Figure size 640x480 with 2 Axes>"
            ]
          },
          "metadata": {},
          "output_type": "display_data"
        }
      ],
      "source": [
        "plt.imshow(nb_confusion_matrix, interpolation='nearest', cmap=plt.cm.Blues)\n",
        "plt.title('Naive Bayes Confusion Matrix')\n",
        "plt.colorbar()\n",
        "tick_marks = np.arange(2)\n",
        "plt.xticks(tick_marks, ['ham', 'spam'], rotation=45)\n",
        "plt.yticks(tick_marks, ['ham', 'spam'])\n",
        "plt.xlabel('Predicted Label')\n",
        "plt.ylabel('True Label')\n",
        "plt.show()"
      ]
    },
    {
      "cell_type": "markdown",
      "metadata": {
        "id": "y0SjSazPgu2g"
      },
      "source": [
        "# Ocena wydajności modeli"
      ]
    },
    {
      "cell_type": "code",
      "execution_count": null,
      "metadata": {
        "id": "KgOy2o9InG69"
      },
      "outputs": [],
      "source": [
        "from pyspark.mllib.evaluation import MulticlassMetrics"
      ]
    },
    {
      "cell_type": "code",
      "execution_count": null,
      "metadata": {
        "colab": {
          "base_uri": "https://localhost:8080/"
        },
        "id": "0TPpxi2CgwWS",
        "outputId": "246394cb-ed24-4900-baa3-866e2e96ac8b"
      },
      "outputs": [
        {
          "name": "stdout",
          "output_type": "stream",
          "text": [
            "Accuracy: 1.00\n",
            "Precision: 0.99\n",
            "Recall: 0.98\n",
            "F1-score: 0.98\n"
          ]
        }
      ],
      "source": [
        "# Predykcje i etykiety dla danych testowych\n",
        "predictions_and_labels = lr_predictions.select(\"prediction\", \"label_index\").rdd  # Dla modelu regresji logistycznej\n",
        "# lub\n",
        "predictions_and_labels = nb_predictions.select(\"prediction\", \"label_index\").rdd  # Dla modelu naiwnego klasyfikatora Bayesa\n",
        "\n",
        "# Tworzenie obiektu MulticlassMetrics\n",
        "metrics = MulticlassMetrics(predictions_and_labels)\n",
        "\n",
        "# Obliczanie metryk\n",
        "accuracy = metrics.accuracy\n",
        "precision = metrics.precision(label=1.0)  # dla etykiety \"spam\"\n",
        "recall = metrics.recall(label=1.0)        # dla etykiety \"spam\"\n",
        "f1_score = metrics.fMeasure(label=1.0)    # dla etykiety \"spam\"\n",
        "\n",
        "# Wyświetlenie wyników\n",
        "print(\"Accuracy: {:.2f}\".format(accuracy))\n",
        "print(\"Precision: {:.2f}\".format(precision))\n",
        "print(\"Recall: {:.2f}\".format(recall))\n",
        "print(\"F1-score: {:.2f}\".format(f1_score))"
      ]
    },
    {
      "cell_type": "markdown",
      "metadata": {
        "id": "LAUgEjUWodG5"
      },
      "source": [
        "## Funkcja do przetetstowania modelu na podstawie przykładowych zdań"
      ]
    },
    {
      "cell_type": "code",
      "execution_count": null,
      "metadata": {
        "id": "ojmuo9NerQ5R"
      },
      "outputs": [],
      "source": [
        "from pyspark.ml.feature import Tokenizer\n",
        "from pyspark.ml import PipelineModel"
      ]
    },
    {
      "cell_type": "code",
      "execution_count": null,
      "metadata": {
        "id": "NSpw-P2Wo3FN"
      },
      "outputs": [],
      "source": [
        "def predict_spam_or_ham(model, text):\n",
        "    # Tworzenie DataFrame z wprowadzonym tekstem\n",
        "    input_text_df = spark.createDataFrame([(text,)], [\"text\"])\n",
        "\n",
        "    # Tokenizacja tekstu\n",
        "    tokenizer = Tokenizer(inputCol=\"text\", outputCol=\"words\")\n",
        "    input_text_df = tokenizer.transform(input_text_df)\n",
        "\n",
        "    # Usunięcie stop words\n",
        "    input_text_df = remover.transform(input_text_df)\n",
        "\n",
        "    # Przekształcenie słów na wektor cech\n",
        "    input_text_df = cv_model.transform(input_text_df)\n",
        "\n",
        "    # Przewidywanie etykiety za pomocą wczytanego modelu\n",
        "    prediction = model.transform(input_text_df)\n",
        "\n",
        "    # Wyświetlenie wyniku predykcji\n",
        "    result = prediction.select(\"prediction\").collect()[0]\n",
        "    if result.prediction == 1.0:\n",
        "        print(\"Wprowadzony tekst jest uznany za SPAM.\")\n",
        "    else:\n",
        "        print(\"Wprowadzony tekst jest uznany za nie-SPAM.\")"
      ]
    },
    {
      "cell_type": "markdown",
      "metadata": {
        "id": "YW7lcpy8raxn"
      },
      "source": [
        "### Przykładowe wywołania funkcji:"
      ]
    },
    {
      "cell_type": "code",
      "execution_count": null,
      "metadata": {
        "colab": {
          "base_uri": "https://localhost:8080/"
        },
        "id": "sEn-tBBUqFW1",
        "outputId": "a64f7a8a-9c51-4d88-99d6-6d4e0cb8db0a"
      },
      "outputs": [
        {
          "name": "stdout",
          "output_type": "stream",
          "text": [
            "Wprowadzony tekst jest uznany za SPAM.\n"
          ]
        }
      ],
      "source": [
        "test_text = \"500 New Mobiles from 2004, MUST GO! Txt: NOKIA to No: 89545 & collect yours today!From ONLY ÂŁ1 www.4-tc.biz 2optout 087187262701.50gbp/mtmsg18\"\n",
        "predict_spam_or_ham(lr_model, test_text)  # lr_model to wczytany wcześniej model regresji logistycznej"
      ]
    },
    {
      "cell_type": "code",
      "execution_count": null,
      "metadata": {
        "colab": {
          "base_uri": "https://localhost:8080/"
        },
        "id": "z7Qef35IqT7b",
        "outputId": "26df6c7f-5cf5-4f62-eff6-4ebfcc17f96e"
      },
      "outputs": [
        {
          "name": "stdout",
          "output_type": "stream",
          "text": [
            "Wprowadzony tekst jest uznany za SPAM.\n"
          ]
        }
      ],
      "source": [
        "test_text = \"Congratulations! You've won a $1000 gift card. Click here to claim now.\"\n",
        "predict_spam_or_ham(lr_model, test_text)"
      ]
    },
    {
      "cell_type": "code",
      "execution_count": null,
      "metadata": {
        "colab": {
          "base_uri": "https://localhost:8080/"
        },
        "id": "7MPH1cKYqgeh",
        "outputId": "33b6d68a-51fc-494d-d1e0-320aef717d04"
      },
      "outputs": [
        {
          "name": "stdout",
          "output_type": "stream",
          "text": [
            "Wprowadzony tekst jest uznany za SPAM.\n"
          ]
        }
      ],
      "source": [
        "test_text = 'Urgent! You have won a 1 week FREE membership in our £100,000 Prize Jackpot! Txt the word: CLAIM to No: 81010 T&C www.dbuk.net LCCLTD POBOX 4403LDNW1A7RW18'\n",
        "predict_spam_or_ham(lr_model, test_text)"
      ]
    },
    {
      "cell_type": "code",
      "execution_count": null,
      "metadata": {
        "colab": {
          "base_uri": "https://localhost:8080/"
        },
        "id": "DGuG8pNkqwUN",
        "outputId": "34b0c406-1b83-456b-9c93-90c87d35ab2b"
      },
      "outputs": [
        {
          "name": "stdout",
          "output_type": "stream",
          "text": [
            "Wprowadzony tekst jest uznany za nie-SPAM.\n"
          ]
        }
      ],
      "source": [
        "test_text = 'How wonderful you are'\n",
        "predict_spam_or_ham(lr_model, test_text)"
      ]
    }
  ],
  "metadata": {
    "colab": {
      "provenance": []
    },
    "kernelspec": {
      "display_name": "Python 3",
      "name": "python3"
    },
    "language_info": {
      "name": "python"
    }
  },
  "nbformat": 4,
  "nbformat_minor": 0
}
